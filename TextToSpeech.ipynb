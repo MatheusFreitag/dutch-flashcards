{
 "cells": [
  {
   "cell_type": "code",
   "execution_count": 2,
   "id": "abee68f3-c7fc-48b2-8c4f-8c0375152fec",
   "metadata": {},
   "outputs": [],
   "source": [
    "from gtts import gTTS"
   ]
  },
  {
   "cell_type": "code",
   "execution_count": 8,
   "id": "b00510dc-df86-431a-9a3c-1443525eacc1",
   "metadata": {},
   "outputs": [],
   "source": [
    "def textToSPeech(text):\n",
    "    tts = gTTS(text=text, lang='nl') # Create a text-to-speech object with Dutch language\n",
    "    tts.save(\"{}.mp3\".format(text)) # Save the output audio file\n"
   ]
  },
  {
   "cell_type": "code",
   "execution_count": 10,
   "id": "0836a9a9-d4d8-4ea1-917d-df614ca5e322",
   "metadata": {},
   "outputs": [],
   "source": [
    "for word in ['ik','jij','u','hi','zij','wij','zij','het','de','een','goed','slecht','leuk','mooi','groot','klein','lang', 'eten', 'drinken', 'slapen', 'werken', 'studeren', 'leren', 'lezen', 'schrijven', 'praten', 'luisteren', 'kijken', 'zien', 'horen', 'begrijpen', 'denken', 'weten', 'kunnen', 'willen', 'moeten', 'mogen', 'hier', 'daar', 'nu', 'straks', 'gisteren', 'vandaag', 'morgen', 'links', 'rechts', 'snel']:\n",
    "    textToSPeech(word)\n",
    "\n",
    "\n",
    "\n"
   ]
  },
  {
   "cell_type": "code",
   "execution_count": 11,
   "id": "4ec946a4-28bc-4648-88cc-d535a714d44d",
   "metadata": {},
   "outputs": [],
   "source": [
    "textToSPeech('jij')"
   ]
  },
  {
   "cell_type": "code",
   "execution_count": null,
   "id": "ed512715-1b66-4dfd-b66e-5b0d002d3226",
   "metadata": {},
   "outputs": [],
   "source": [
    "# ik (I)\n",
    "# jij/u (you)\n",
    "# hij/zij (he/she)\n",
    "# wij (we)\n",
    "# zij (they)\n",
    "# het (it)\n",
    "# de (the)\n",
    "# een (a/an)\n",
    "# goed (good) - contains the diphthong \"oe\"\n",
    "# slecht (bad) - contains the diphthong \"ee\"\n",
    "# leuk (fun/nice) - contains the diphthong \"eu\"\n",
    "# mooi (beautiful) - contains the diphthong \"ooi\"\n",
    "# groot (big) - contains the diphthong \"oo\"\n",
    "# klein (small) - contains the diphthong \"ei\"\n",
    "# lang (long) - contains the diphthong \"aa\"\n",
    "# eten (to eat) - contains the diphthong \"ee\"\n",
    "# drinken (to drink) - contains the diphthong \"in\"\n",
    "# slapen (to sleep) - contains the diphthong \"aa\"\n",
    "# werken (to work) - contains the diphthong \"er\"\n",
    "# studeren (to study) - contains the diphthong \"ue\"\n",
    "# leren (to learn) - contains the diphthong \"ee\"\n",
    "# lezen (to read) - contains the diphthong \"ee\"\n",
    "# schrijven (to write) - contains the diphthong \"ij\"\n",
    "# praten (to talk) - contains the diphthong \"aa\"\n",
    "# luisteren (to listen) - contains the diphthong \"ie\"\n",
    "# kijken (to look/watch) - contains the diphthong \"ij\"\n",
    "# zien (to see) - contains the diphthong \"ie\"\n",
    "# horen (to hear) - contains the diphthong \"oe\"\n",
    "# begrijpen (to understand) - contains the diphthong \"ij\"\n",
    "# denken (to think) - contains the diphthong \"en\"\n",
    "# weten (to know) - contains the diphthong \"ee\"\n",
    "# kunnen (to be able to) - contains the diphthong \"oe\"\n",
    "# willen (to want) - contains the diphthong \"ie\"\n",
    "# moeten (to have to) - contains the diphthong \"oe\"\n",
    "# mogen (to be allowed to) - contains the diphthong \"oe\"\n",
    "# hier (here) - contains the diphthong \"ie\"\n",
    "# daar (there) - contains the diphthong \"aa\"\n",
    "# nu (now) - contains the diphthong \"u\"\n",
    "# straks (later) - contains the diphthong \"a\"\n",
    "# gisteren (yesterday) - contains the diphthong \"ie\"\n",
    "# vandaag (today) - contains the diphthong \"aa\"\n",
    "# morgen (tomorrow) - contains the diphthong \"or\"\n",
    "# links (left) - contains the diphthong \"in\"\n",
    "# rechts (right) - contains the diphthong \"ei\"\n",
    "# snel (fast/quick) - contains the diphthong \"ee\""
   ]
  }
 ],
 "metadata": {
  "kernelspec": {
   "display_name": "Python 3 (ipykernel)",
   "language": "python",
   "name": "python3"
  },
  "language_info": {
   "codemirror_mode": {
    "name": "ipython",
    "version": 3
   },
   "file_extension": ".py",
   "mimetype": "text/x-python",
   "name": "python",
   "nbconvert_exporter": "python",
   "pygments_lexer": "ipython3",
   "version": "3.9.12"
  }
 },
 "nbformat": 4,
 "nbformat_minor": 5
}
