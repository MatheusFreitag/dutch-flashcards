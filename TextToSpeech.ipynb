{
 "cells": [
  {
   "cell_type": "code",
   "execution_count": 2,
   "id": "abee68f3-c7fc-48b2-8c4f-8c0375152fec",
   "metadata": {},
   "outputs": [],
   "source": [
    "from gtts import gTTS"
   ]
  },
  {
   "cell_type": "code",
   "execution_count": 9,
   "id": "b00510dc-df86-431a-9a3c-1443525eacc1",
   "metadata": {},
   "outputs": [],
   "source": [
    "def textToSPeech(text):\n",
    "    tts = gTTS(text=text, lang='nl') # Create a text-to-speech object with Dutch language\n",
    "    tts.save(\"./audios/diphthongsVocabulary/{}.mp3\".format(text)) # Save the output audio file\n"
   ]
  },
  {
   "cell_type": "code",
   "execution_count": 12,
   "id": "0836a9a9-d4d8-4ea1-917d-df614ca5e322",
   "metadata": {},
   "outputs": [],
   "source": [
    "for word in [\n",
    "  'mais',\n",
    "  'laid',\n",
    "  'klaar',\n",
    "  'kans',\n",
    "  'haai',\n",
    "  'auto',\n",
    "  'huis',\n",
    "  'goud',\n",
    "  'blauw',\n",
    "  'fout',\n",
    "  'ei',\n",
    "  'neus',\n",
    "  'meisje',\n",
    "  'reis',\n",
    "  'heilig',\n",
    "  'neus',\n",
    "  'leuk',\n",
    "  'beuk',\n",
    "  'geur',\n",
    "  'keuken',\n",
    "  'dier',\n",
    "  'mier',\n",
    "  'gierig',\n",
    "  'zwierig',\n",
    "  'drie',\n",
    "  'ijs',\n",
    "  'pijn',\n",
    "  'rijk',\n",
    "  'tijd',\n",
    "  'wijn',\n",
    "  'goud',\n",
    "  'vrouw',\n",
    "  'koud',\n",
    "  'fout',\n",
    "  'jouw',\n",
    "  'huis',\n",
    "  'luid',\n",
    "  'fruit',\n",
    "  'sluit',\n",
    "  'buiten',\n",
    "  'muur',\n",
    "  'vuur',\n",
    "  'duur',\n",
    "  'uur',\n",
    "  'kuur',\n",
    "  'boek',\n",
    "  'hoed',\n",
    "  'stoel',\n",
    "  'goed',\n",
    "  'boer',\n",
    "]:\n",
    "    textToSPeech(word)"
   ]
  },
  {
   "cell_type": "code",
   "execution_count": 11,
   "id": "4ec946a4-28bc-4648-88cc-d535a714d44d",
   "metadata": {},
   "outputs": [],
   "source": []
  },
  {
   "cell_type": "code",
   "execution_count": null,
   "id": "ed512715-1b66-4dfd-b66e-5b0d002d3226",
   "metadata": {},
   "outputs": [],
   "source": []
  }
 ],
 "metadata": {
  "kernelspec": {
   "display_name": "Python 3 (ipykernel)",
   "language": "python",
   "name": "python3"
  },
  "language_info": {
   "codemirror_mode": {
    "name": "ipython",
    "version": 3
   },
   "file_extension": ".py",
   "mimetype": "text/x-python",
   "name": "python",
   "nbconvert_exporter": "python",
   "pygments_lexer": "ipython3",
   "version": "3.9.12"
  }
 },
 "nbformat": 4,
 "nbformat_minor": 5
}
